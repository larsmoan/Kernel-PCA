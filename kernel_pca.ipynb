{
 "cells": [
  {
   "cell_type": "code",
   "execution_count": null,
   "metadata": {},
   "outputs": [],
   "source": [
    "import numpy as np\n",
    "import matplotlib.pyplot as plt\n",
    "from sklearn.datasets import make_circles, make_moons\n",
    "from sklearn.decomposition import PCA, KernelPCA\n",
    "\n",
    "x_circle, y_circle = make_circles(n_samples=1000, factor=0.3, noise=0.05, random_state=0)\n",
    "x_moon, y_moon = make_moons(n_samples=1000, \n",
    "                  noise=0.01,\n",
    "                  random_state=0)\n",
    "\n",
    "\n",
    "sum_squared = x_circle[:, 0]**2 + x_circle[:, 1]**2\n",
    "\n",
    "x_3d = np.column_stack((x_circle, sum_squared))\n",
    "\n",
    "fig, axes = plt.subplots(1, 2, figsize=(12, 5))\n",
    "\n",
    "# 2D scatter plot\n",
    "axes[0].scatter(x_circle[:, 0], x_circle[:, 1], c=y_circle)\n",
    "axes[0].set_xlabel('Feature 1')\n",
    "axes[0].set_ylabel('Feature 2')\n",
    "axes[0].set_title('2D Scatter Plot')\n",
    "\n",
    "# 3D scatter plot\n",
    "ax = fig.add_subplot(122, projection='3d')\n",
    "ax.scatter(x_3d[:, 0], x_3d[:, 1], x_3d[:, 2], c=y_circle)\n",
    "ax.set_xlabel('Feature 1')\n",
    "ax.set_ylabel('Feature 2')\n",
    "ax.set_zlabel('Feature 1^2 + Feature 2^2')\n",
    "ax.set_title('3D Scatter Plot')\n",
    "\n",
    "plt.tight_layout()\n",
    "plt.show()"
   ]
  },
  {
   "cell_type": "code",
   "execution_count": null,
   "metadata": {},
   "outputs": [],
   "source": [
    "pca = PCA(n_components=2, )\n",
    "x_pca = pca.fit(x_circle).transform(x_circle)\n",
    "plt.scatter(x_pca[:, 0], x_pca[:, 1], c=y_circle)\n",
    "plt.title('PCA applied')\n",
    "plt.xlabel('Feature 1')\n",
    "plt.ylabel('Feature 2')\n",
    "plt.show()"
   ]
  },
  {
   "cell_type": "code",
   "execution_count": null,
   "metadata": {},
   "outputs": [],
   "source": [
    "gamma=9\n",
    "kernel_pca = KernelPCA(n_components=2, kernel=\"rbf\", gamma=gamma)\n",
    "x_kernel_pca = kernel_pca.fit(x_circle).transform(x_circle)\n",
    "plt.title(f\"Kernel PCA applied using radial basis function and gamma: {gamma}\")\n",
    "plt.xlabel(\"Feature 1\")\n",
    "plt.ylabel(\"Feature 2\")\n",
    "plt.scatter(x_kernel_pca[:, 0], x_kernel_pca[:, 1], c=y_circle)\n",
    "plt.show()"
   ]
  },
  {
   "cell_type": "code",
   "execution_count": null,
   "metadata": {},
   "outputs": [],
   "source": [
    "def plot_kernel_pca(x, y, hyperparams: dict):\n",
    "    gamma = hyperparams.get('gamma', 9)\n",
    "    degree = hyperparams.get('degree', 8)\n",
    "    coef0 = hyperparams.get('coef0', 0.5)\n",
    "\n",
    "\n",
    "    kernel_pca_rbf = KernelPCA(n_components=2, \n",
    "                               kernel=\"rbf\", \n",
    "                               gamma=gamma)\n",
    "    x_kernel_pca_rbf = kernel_pca_rbf.fit_transform(x)\n",
    "\n",
    "    kernel_pca_poly = KernelPCA(n_components=2,\n",
    "                                kernel='poly', \n",
    "                                degree=degree)\n",
    "    x_kernel_pca_poly = kernel_pca_poly.fit_transform(x)\n",
    "\n",
    "\n",
    "    kernel_pca_cosine = KernelPCA(n_components=2, kernel='cosine')\n",
    "    x_kernel_pca_cosine = kernel_pca_cosine.fit_transform(x)\n",
    "\n",
    "    fig, axes = plt.subplots(1, 4, figsize=(20, 5))\n",
    "\n",
    "    for ax, data, title in zip(axes, [x, x_kernel_pca_rbf, x_kernel_pca_poly, x_kernel_pca_cosine],\n",
    "                               [\"Original data\", \n",
    "                                \"RBF Kernel PCA\", \n",
    "                                \"Polynomial Kernel PCA\",\n",
    "                                \"Cosine Kernel PCA\"]):\n",
    "        ax.scatter(data[:, 0], data[:, 1], c=y)\n",
    "        ax.set_title(title)\n",
    "        ax.set_xlabel(\"Principal Component 1\")\n",
    "        ax.set_ylabel(\"Principal Component 2\")\n",
    "\n",
    "    plt.tight_layout()\n",
    "    plt.show()"
   ]
  },
  {
   "cell_type": "code",
   "execution_count": null,
   "metadata": {},
   "outputs": [],
   "source": [
    "hyperparams = {\n",
    "    'gamma': 9,\n",
    "    'degree': 8,\n",
    "    'coef0': 0.5\n",
    "}\n",
    "plot_kernel_pca(x_circle, y_circle, hyperparams)"
   ]
  },
  {
   "cell_type": "code",
   "execution_count": null,
   "metadata": {},
   "outputs": [],
   "source": [
    "#Test it with the half moon data as well\n",
    "hyperparams = {\n",
    "    'gamma': 19,\n",
    "    'degree': 8,\n",
    "    'coef0': 0.9\n",
    "}\n",
    "plot_kernel_pca(x_moon, y_moon, hyperparams)"
   ]
  },
  {
   "cell_type": "code",
   "execution_count": null,
   "metadata": {},
   "outputs": [],
   "source": [
    "#Check the reconstruction with Kernel PCA compared to vanilla PCA\n",
    "\n",
    "kernel_pca = KernelPCA(n_components=2, kernel=\"rbf\", gamma=14, fit_inverse_transform=True, alpha=0.8)\n",
    "x_kernel_pca = kernel_pca.fit(x_circle).transform(x_circle)\n",
    "x_kernel_pca_reconstructed = kernel_pca.inverse_transform(x_kernel_pca)\n",
    "\n",
    "#Vanilla PCA\n",
    "pca = PCA(n_components=2)\n",
    "x_pca = pca.fit(x_circle).transform(x_circle)\n",
    "x_pca_reconstructed = pca.inverse_transform(x_pca)\n",
    "\n",
    "fig, axes = plt.subplots(1, 3, figsize=(20, 5))\n",
    "for ax, data, title in zip(axes, [x_circle, x_pca_reconstructed, x_kernel_pca_reconstructed],\n",
    "                            [\"Original data\", \n",
    "                            \"Reconstruction PCA\", \n",
    "                            \"Reconstruction Kernel PCA\"]):\n",
    "    ax.scatter(data[:, 0], data[:, 1], c=y_circle)\n",
    "    ax.set_title(title)\n",
    "    ax.set_xlabel(\"Principal Component 1\")\n",
    "    ax.set_ylabel(\"Principal Component 2\")\n",
    "\n",
    "plt.tight_layout()\n",
    "plt.show()"
   ]
  }
 ],
 "metadata": {
  "kernelspec": {
   "display_name": ".venv",
   "language": "python",
   "name": "python3"
  },
  "language_info": {
   "codemirror_mode": {
    "name": "ipython",
    "version": 3
   },
   "file_extension": ".py",
   "mimetype": "text/x-python",
   "name": "python",
   "nbconvert_exporter": "python",
   "pygments_lexer": "ipython3",
   "version": "3.11.9"
  }
 },
 "nbformat": 4,
 "nbformat_minor": 2
}
